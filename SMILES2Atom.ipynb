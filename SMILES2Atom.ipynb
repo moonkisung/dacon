{
 "cells": [
  {
   "cell_type": "code",
   "execution_count": 1,
   "metadata": {},
   "outputs": [],
   "source": [
    "import os\n",
    "from pysmiles import read_smiles\n",
    "from PIL import Image\n",
    "\n",
    "import numpy as np\n",
    "import pandas as pd\n",
    "import matplotlib.pyplot as plt\n",
    "import cv2\n",
    "import rdkit\n",
    "from rdkit import Chem\n",
    "from rdkit.Chem import Draw\n",
    "from rdkit.Chem import PandasTools\n",
    "from rdkit import RDLogger\n",
    "RDLogger.DisableLog('rdApp.*')\n",
    "from tqdm import tqdm\n",
    "\n",
    "import torch\n",
    "from torch import nn\n",
    "from torchvision import models\n",
    "from torch.utils.data import Dataset, DataLoader"
   ]
  },
  {
   "cell_type": "markdown",
   "metadata": {},
   "source": [
    "# Load Data"
   ]
  },
  {
   "cell_type": "code",
   "execution_count": 2,
   "metadata": {},
   "outputs": [],
   "source": [
    "train = pd.read_csv(os.path.join('..','data','train.csv'))\n",
    "dev = pd.read_csv(os.path.join('..','data','dev.csv'))"
   ]
  },
  {
   "cell_type": "code",
   "execution_count": 3,
   "metadata": {},
   "outputs": [
    {
     "name": "stdout",
     "output_type": "stream",
     "text": [
      "<class 'pandas.core.frame.DataFrame'>\n",
      "Int64Index: 30345 entries, 0 to 70\n",
      "Data columns (total 4 columns):\n",
      " #   Column         Non-Null Count  Dtype  \n",
      "---  ------         --------------  -----  \n",
      " 0   uid            30345 non-null  object \n",
      " 1   SMILES         30345 non-null  object \n",
      " 2   S1_energy(eV)  30345 non-null  float64\n",
      " 3   T1_energy(eV)  30345 non-null  float64\n",
      "dtypes: float64(2), object(2)\n",
      "memory usage: 1.2+ MB\n"
     ]
    }
   ],
   "source": [
    "train = pd.concat([train, dev])\n",
    "train.info()"
   ]
  },
  {
   "cell_type": "code",
   "execution_count": 110,
   "metadata": {},
   "outputs": [
    {
     "name": "stdout",
     "output_type": "stream",
     "text": [
      "Wed Aug 25 05:36:24 2021       \n",
      "+-----------------------------------------------------------------------------+\n",
      "| NVIDIA-SMI 460.73.01    Driver Version: 460.73.01    CUDA Version: 11.2     |\n",
      "|-------------------------------+----------------------+----------------------+\n",
      "| GPU  Name        Persistence-M| Bus-Id        Disp.A | Volatile Uncorr. ECC |\n",
      "| Fan  Temp  Perf  Pwr:Usage/Cap|         Memory-Usage | GPU-Util  Compute M. |\n",
      "|                               |                      |               MIG M. |\n",
      "|===============================+======================+======================|\n",
      "|   0  GeForce RTX 3090    Off  | 00000000:1A:00.0 Off |                  N/A |\n",
      "| 57%   49C    P2   120W / 370W |   3239MiB / 24268MiB |     11%      Default |\n",
      "|                               |                      |                  N/A |\n",
      "+-------------------------------+----------------------+----------------------+\n",
      "|   1  GeForce RTX 3090    Off  | 00000000:68:00.0  On |                  N/A |\n",
      "|  0%   49C    P8    31W / 370W |  17333MiB / 24260MiB |      0%      Default |\n",
      "|                               |                      |                  N/A |\n",
      "+-------------------------------+----------------------+----------------------+\n",
      "                                                                               \n",
      "+-----------------------------------------------------------------------------+\n",
      "| Processes:                                                                  |\n",
      "|  GPU   GI   CI        PID   Type   Process name                  GPU Memory |\n",
      "|        ID   ID                                                   Usage      |\n",
      "|=============================================================================|\n",
      "+-----------------------------------------------------------------------------+\n"
     ]
    }
   ],
   "source": [
    "!nvidia-smi"
   ]
  },
  {
   "cell_type": "markdown",
   "metadata": {},
   "source": [
    "# The type of atom and the number of atom"
   ]
  },
  {
   "cell_type": "markdown",
   "metadata": {},
   "source": [
    "## Unique atoms in total data"
   ]
  },
  {
   "cell_type": "code",
   "execution_count": 4,
   "metadata": {},
   "outputs": [],
   "source": [
    "unique_char = set()\n",
    "for smiles in train['SMILES']:\n",
    "    mols = Chem.MolFromSmiles(smiles)\n",
    "    num_atoms = mols.GetNumAtoms()\n",
    "    for n in range(num_atoms) :\n",
    "        type_atoms = mols.GetAtomWithIdx(n).GetSymbol()\n",
    "        unique_char.add(type_atoms)\n",
    "        \n",
    "unique_char = sorted(list(unique_char))"
   ]
  },
  {
   "cell_type": "code",
   "execution_count": 5,
   "metadata": {},
   "outputs": [
    {
     "data": {
      "text/plain": [
       "['B', 'Br', 'C', 'Cl', 'F', 'H', 'I', 'N', 'O', 'P', 'S', 'Si']"
      ]
     },
     "execution_count": 5,
     "metadata": {},
     "output_type": "execute_result"
    }
   ],
   "source": [
    "unique_char"
   ]
  },
  {
   "cell_type": "code",
   "execution_count": 6,
   "metadata": {},
   "outputs": [
    {
     "name": "stdout",
     "output_type": "stream",
     "text": [
      "{'B': 0, 'Br': 0, 'C': 0, 'Cl': 0, 'F': 0, 'H': 0, 'I': 0, 'N': 0, 'O': 0, 'P': 0, 'S': 0, 'Si': 0}\n"
     ]
    }
   ],
   "source": [
    "atom_token = {}\n",
    "for atom in unique_char:\n",
    "    atom_token[atom] = 0\n",
    "print(atom_token)"
   ]
  },
  {
   "cell_type": "code",
   "execution_count": 7,
   "metadata": {},
   "outputs": [
    {
     "name": "stdout",
     "output_type": "stream",
     "text": [
      "CCC1CCCCN1C(=O)C(C)OC(=O)c1c(C)oc(-n2cccc2)c1C#N\n"
     ]
    },
    {
     "data": {
      "image/png": "[encoded data removed]",
      "text/plain": [
       "<rdkit.Chem.rdchem.Mol at 0x7f16d776c670>"
      ]
     },
     "execution_count": 7,
     "metadata": {},
     "output_type": "execute_result"
    }
   ],
   "source": [
    "for smiles in train['SMILES']:\n",
    "    print(smiles)\n",
    "    break\n",
    "m = Chem.MolFromSmiles(train['SMILES'].iloc[0])\n",
    "m"
   ]
  },
  {
   "cell_type": "code",
   "execution_count": 8,
   "metadata": {},
   "outputs": [],
   "source": [
    "m = Chem.MolFromSmiles(train['SMILES'].iloc[0])\n",
    "rings = m.GetRingInfo().BondRings()"
   ]
  },
  {
   "cell_type": "code",
   "execution_count": 9,
   "metadata": {},
   "outputs": [],
   "source": [
    "def isRingAromatic(mol, bondRing):\n",
    "    for id in bondRing:\n",
    "        if not mol.GetBondWithIdx(id).GetIsAromatic():\n",
    "            return False\n",
    "    return True\n",
    "#print(isRingAromatic(m, ri.BondRings()[0]))"
   ]
  },
  {
   "cell_type": "code",
   "execution_count": 16,
   "metadata": {},
   "outputs": [
    {
     "data": {
      "text/plain": [
       "2"
      ]
     },
     "execution_count": 16,
     "metadata": {},
     "output_type": "execute_result"
    }
   ],
   "source": [
    "count_aroma = []\n",
    "for ring in rings: \n",
    "    count_aroma.append(isRingAromatic(m, ring))    \n",
    "count_aroma = sum(count_aroma)\n",
    "count_aroma"
   ]
  },
  {
   "cell_type": "markdown",
   "metadata": {},
   "source": [
    "## Convert SMILES to Token"
   ]
  },
  {
   "cell_type": "code",
   "execution_count": 17,
   "metadata": {},
   "outputs": [],
   "source": [
    "def smiles2num(train):\n",
    "    token_list = []\n",
    "    for smiles in train['SMILES']:\n",
    "        atom_token = {'B': 0, 'Br': 0, 'C': 0, 'Cl': 0, 'F': 0, 'H': 0, 'I': 0, 'N': 0, 'O': 0, 'P': 0, 'S': 0, 'Si': 0, 'Aromatic': 0}\n",
    "        m = Chem.MolFromSmiles(smiles)\n",
    "        num_atom = m.GetNumAtoms()\n",
    "        for n in range(num_atom) :\n",
    "            type_atom = m.GetAtomWithIdx(n).GetSymbol()\n",
    "            atom_token[type_atom] += 1\n",
    "        \n",
    "        rings = m.GetRingInfo().BondRings()\n",
    "        count_aroma = []\n",
    "        for ring in rings: \n",
    "            count_aroma.append(isRingAromatic(m, ring))\n",
    "        count_aroma = sum(count_aroma)\n",
    "        atom_token['Aromatic'] = count_aroma\n",
    "        token_list.append(atom_token)\n",
    "    df_atom = pd.DataFrame.from_dict(token_list)\n",
    "    return df_atom"
   ]
  },
  {
   "cell_type": "code",
   "execution_count": 18,
   "metadata": {},
   "outputs": [],
   "source": [
    "df_atom = smiles2num(train)"
   ]
  },
  {
   "cell_type": "code",
   "execution_count": 19,
   "metadata": {},
   "outputs": [
    {
     "data": {
      "text/html": [
       "<div>\n",
       "<style scoped>\n",
       "    .dataframe tbody tr th:only-of-type {\n",
       "        vertical-align: middle;\n",
       "    }\n",
       "\n",
       "    .dataframe tbody tr th {\n",
       "        vertical-align: top;\n",
       "    }\n",
       "\n",
       "    .dataframe thead th {\n",
       "        text-align: right;\n",
       "    }\n",
       "</style>\n",
       "<table border=\"1\" class=\"dataframe\">\n",
       "  <thead>\n",
       "    <tr style=\"text-align: right;\">\n",
       "      <th></th>\n",
       "      <th>B</th>\n",
       "      <th>Br</th>\n",
       "      <th>C</th>\n",
       "      <th>Cl</th>\n",
       "      <th>F</th>\n",
       "      <th>H</th>\n",
       "      <th>I</th>\n",
       "      <th>N</th>\n",
       "      <th>O</th>\n",
       "      <th>P</th>\n",
       "      <th>S</th>\n",
       "      <th>Si</th>\n",
       "      <th>Aromatic</th>\n",
       "    </tr>\n",
       "  </thead>\n",
       "  <tbody>\n",
       "    <tr>\n",
       "      <th>0</th>\n",
       "      <td>0</td>\n",
       "      <td>0</td>\n",
       "      <td>21</td>\n",
       "      <td>0</td>\n",
       "      <td>0</td>\n",
       "      <td>0</td>\n",
       "      <td>0</td>\n",
       "      <td>3</td>\n",
       "      <td>4</td>\n",
       "      <td>0</td>\n",
       "      <td>0</td>\n",
       "      <td>0</td>\n",
       "      <td>2</td>\n",
       "    </tr>\n",
       "    <tr>\n",
       "      <th>1</th>\n",
       "      <td>0</td>\n",
       "      <td>0</td>\n",
       "      <td>33</td>\n",
       "      <td>1</td>\n",
       "      <td>0</td>\n",
       "      <td>0</td>\n",
       "      <td>0</td>\n",
       "      <td>4</td>\n",
       "      <td>3</td>\n",
       "      <td>0</td>\n",
       "      <td>1</td>\n",
       "      <td>0</td>\n",
       "      <td>5</td>\n",
       "    </tr>\n",
       "    <tr>\n",
       "      <th>2</th>\n",
       "      <td>0</td>\n",
       "      <td>0</td>\n",
       "      <td>19</td>\n",
       "      <td>0</td>\n",
       "      <td>0</td>\n",
       "      <td>0</td>\n",
       "      <td>0</td>\n",
       "      <td>3</td>\n",
       "      <td>3</td>\n",
       "      <td>0</td>\n",
       "      <td>1</td>\n",
       "      <td>0</td>\n",
       "      <td>2</td>\n",
       "    </tr>\n",
       "    <tr>\n",
       "      <th>3</th>\n",
       "      <td>0</td>\n",
       "      <td>0</td>\n",
       "      <td>13</td>\n",
       "      <td>0</td>\n",
       "      <td>0</td>\n",
       "      <td>0</td>\n",
       "      <td>0</td>\n",
       "      <td>2</td>\n",
       "      <td>1</td>\n",
       "      <td>0</td>\n",
       "      <td>1</td>\n",
       "      <td>0</td>\n",
       "      <td>1</td>\n",
       "    </tr>\n",
       "    <tr>\n",
       "      <th>4</th>\n",
       "      <td>0</td>\n",
       "      <td>0</td>\n",
       "      <td>14</td>\n",
       "      <td>0</td>\n",
       "      <td>3</td>\n",
       "      <td>0</td>\n",
       "      <td>0</td>\n",
       "      <td>1</td>\n",
       "      <td>2</td>\n",
       "      <td>0</td>\n",
       "      <td>0</td>\n",
       "      <td>0</td>\n",
       "      <td>0</td>\n",
       "    </tr>\n",
       "    <tr>\n",
       "      <th>...</th>\n",
       "      <td>...</td>\n",
       "      <td>...</td>\n",
       "      <td>...</td>\n",
       "      <td>...</td>\n",
       "      <td>...</td>\n",
       "      <td>...</td>\n",
       "      <td>...</td>\n",
       "      <td>...</td>\n",
       "      <td>...</td>\n",
       "      <td>...</td>\n",
       "      <td>...</td>\n",
       "      <td>...</td>\n",
       "      <td>...</td>\n",
       "    </tr>\n",
       "    <tr>\n",
       "      <th>30340</th>\n",
       "      <td>0</td>\n",
       "      <td>0</td>\n",
       "      <td>44</td>\n",
       "      <td>0</td>\n",
       "      <td>0</td>\n",
       "      <td>0</td>\n",
       "      <td>0</td>\n",
       "      <td>4</td>\n",
       "      <td>2</td>\n",
       "      <td>0</td>\n",
       "      <td>0</td>\n",
       "      <td>0</td>\n",
       "      <td>7</td>\n",
       "    </tr>\n",
       "    <tr>\n",
       "      <th>30341</th>\n",
       "      <td>0</td>\n",
       "      <td>0</td>\n",
       "      <td>65</td>\n",
       "      <td>0</td>\n",
       "      <td>0</td>\n",
       "      <td>0</td>\n",
       "      <td>0</td>\n",
       "      <td>5</td>\n",
       "      <td>0</td>\n",
       "      <td>0</td>\n",
       "      <td>0</td>\n",
       "      <td>0</td>\n",
       "      <td>10</td>\n",
       "    </tr>\n",
       "    <tr>\n",
       "      <th>30342</th>\n",
       "      <td>2</td>\n",
       "      <td>0</td>\n",
       "      <td>68</td>\n",
       "      <td>0</td>\n",
       "      <td>0</td>\n",
       "      <td>0</td>\n",
       "      <td>0</td>\n",
       "      <td>2</td>\n",
       "      <td>0</td>\n",
       "      <td>0</td>\n",
       "      <td>0</td>\n",
       "      <td>0</td>\n",
       "      <td>10</td>\n",
       "    </tr>\n",
       "    <tr>\n",
       "      <th>30343</th>\n",
       "      <td>2</td>\n",
       "      <td>0</td>\n",
       "      <td>52</td>\n",
       "      <td>0</td>\n",
       "      <td>0</td>\n",
       "      <td>0</td>\n",
       "      <td>0</td>\n",
       "      <td>2</td>\n",
       "      <td>0</td>\n",
       "      <td>0</td>\n",
       "      <td>0</td>\n",
       "      <td>0</td>\n",
       "      <td>10</td>\n",
       "    </tr>\n",
       "    <tr>\n",
       "      <th>30344</th>\n",
       "      <td>0</td>\n",
       "      <td>0</td>\n",
       "      <td>68</td>\n",
       "      <td>1</td>\n",
       "      <td>0</td>\n",
       "      <td>0</td>\n",
       "      <td>0</td>\n",
       "      <td>5</td>\n",
       "      <td>0</td>\n",
       "      <td>0</td>\n",
       "      <td>0</td>\n",
       "      <td>0</td>\n",
       "      <td>10</td>\n",
       "    </tr>\n",
       "  </tbody>\n",
       "</table>\n",
       "<p>30345 rows × 13 columns</p>\n",
       "</div>"
      ],
      "text/plain": [
       "       B  Br   C  Cl  F  H  I  N  O  P  S  Si  Aromatic\n",
       "0      0   0  21   0  0  0  0  3  4  0  0   0         2\n",
       "1      0   0  33   1  0  0  0  4  3  0  1   0         5\n",
       "2      0   0  19   0  0  0  0  3  3  0  1   0         2\n",
       "3      0   0  13   0  0  0  0  2  1  0  1   0         1\n",
       "4      0   0  14   0  3  0  0  1  2  0  0   0         0\n",
       "...   ..  ..  ..  .. .. .. .. .. .. .. ..  ..       ...\n",
       "30340  0   0  44   0  0  0  0  4  2  0  0   0         7\n",
       "30341  0   0  65   0  0  0  0  5  0  0  0   0        10\n",
       "30342  2   0  68   0  0  0  0  2  0  0  0   0        10\n",
       "30343  2   0  52   0  0  0  0  2  0  0  0   0        10\n",
       "30344  0   0  68   1  0  0  0  5  0  0  0   0        10\n",
       "\n",
       "[30345 rows x 13 columns]"
      ]
     },
     "execution_count": 19,
     "metadata": {},
     "output_type": "execute_result"
    }
   ],
   "source": [
    "df_atom"
   ]
  },
  {
   "cell_type": "code",
   "execution_count": 79,
   "metadata": {},
   "outputs": [
    {
     "data": {
      "image/png": "[encoded data removed]",
      "text/plain": [
       "<rdkit.Chem.rdchem.Mol at 0x7f16c9034210>"
      ]
     },
     "execution_count": 79,
     "metadata": {},
     "output_type": "execute_result"
    }
   ],
   "source": [
    "m = Chem.MolFromSmiles(train['SMILES'].iloc[0])\n",
    "m"
   ]
  },
  {
   "cell_type": "code",
   "execution_count": 23,
   "metadata": {},
   "outputs": [
    {
     "data": {
      "text/html": [
       "<div>\n",
       "<style scoped>\n",
       "    .dataframe tbody tr th:only-of-type {\n",
       "        vertical-align: middle;\n",
       "    }\n",
       "\n",
       "    .dataframe tbody tr th {\n",
       "        vertical-align: top;\n",
       "    }\n",
       "\n",
       "    .dataframe thead th {\n",
       "        text-align: right;\n",
       "    }\n",
       "</style>\n",
       "<table border=\"1\" class=\"dataframe\">\n",
       "  <thead>\n",
       "    <tr style=\"text-align: right;\">\n",
       "      <th></th>\n",
       "      <th>uid</th>\n",
       "      <th>SMILES</th>\n",
       "      <th>S1_energy(eV)</th>\n",
       "      <th>T1_energy(eV)</th>\n",
       "    </tr>\n",
       "  </thead>\n",
       "  <tbody>\n",
       "    <tr>\n",
       "      <th>66</th>\n",
       "      <td>dev_66</td>\n",
       "      <td>N#Cc1cc(-c2ccc(N3c4ccccc4Oc4ccccc43)cc2)c(-c2c...</td>\n",
       "      <td>2.1939</td>\n",
       "      <td>2.1846</td>\n",
       "    </tr>\n",
       "    <tr>\n",
       "      <th>67</th>\n",
       "      <td>dev_67</td>\n",
       "      <td>CC1(C)c2ccccc2N(c2ccc(-c3nc4ccc(N5c6ccccc6C(C)...</td>\n",
       "      <td>2.3537</td>\n",
       "      <td>2.3371</td>\n",
       "    </tr>\n",
       "    <tr>\n",
       "      <th>68</th>\n",
       "      <td>dev_68</td>\n",
       "      <td>Cc1cc(-n2c3ccc(C(C)(C)C)cc3c3cc(C(C)(C)C)ccc32...</td>\n",
       "      <td>2.1364</td>\n",
       "      <td>2.1260</td>\n",
       "    </tr>\n",
       "    <tr>\n",
       "      <th>69</th>\n",
       "      <td>dev_69</td>\n",
       "      <td>Cc1cc(-n2c3ccccc3c3ccccc32)cc(C)c1B1c2ccccc2B(...</td>\n",
       "      <td>2.2650</td>\n",
       "      <td>2.2511</td>\n",
       "    </tr>\n",
       "    <tr>\n",
       "      <th>70</th>\n",
       "      <td>dev_70</td>\n",
       "      <td>CC(C)(C)c1ccc2c(c1)c1cc(C(C)(C)C)ccc1n2-c1c(Cl...</td>\n",
       "      <td>2.5477</td>\n",
       "      <td>2.4184</td>\n",
       "    </tr>\n",
       "  </tbody>\n",
       "</table>\n",
       "</div>"
      ],
      "text/plain": [
       "       uid                                             SMILES  S1_energy(eV)  \\\n",
       "66  dev_66  N#Cc1cc(-c2ccc(N3c4ccccc4Oc4ccccc43)cc2)c(-c2c...         2.1939   \n",
       "67  dev_67  CC1(C)c2ccccc2N(c2ccc(-c3nc4ccc(N5c6ccccc6C(C)...         2.3537   \n",
       "68  dev_68  Cc1cc(-n2c3ccc(C(C)(C)C)cc3c3cc(C(C)(C)C)ccc32...         2.1364   \n",
       "69  dev_69  Cc1cc(-n2c3ccccc3c3ccccc32)cc(C)c1B1c2ccccc2B(...         2.2650   \n",
       "70  dev_70  CC(C)(C)c1ccc2c(c1)c1cc(C(C)(C)C)ccc1n2-c1c(Cl...         2.5477   \n",
       "\n",
       "    T1_energy(eV)  \n",
       "66         2.1846  \n",
       "67         2.3371  \n",
       "68         2.1260  \n",
       "69         2.2511  \n",
       "70         2.4184  "
      ]
     },
     "execution_count": 23,
     "metadata": {},
     "output_type": "execute_result"
    }
   ],
   "source": [
    "train.tail(5)"
   ]
  },
  {
   "cell_type": "code",
   "execution_count": 47,
   "metadata": {},
   "outputs": [],
   "source": [
    "#df = pd.concat([train, df_atom], axis=1)"
   ]
  },
  {
   "cell_type": "code",
   "execution_count": 48,
   "metadata": {},
   "outputs": [
    {
     "name": "stdout",
     "output_type": "stream",
     "text": [
      "<class 'pandas.core.frame.DataFrame'>\n",
      "RangeIndex: 71 entries, 0 to 70\n",
      "Data columns (total 4 columns):\n",
      " #   Column         Non-Null Count  Dtype  \n",
      "---  ------         --------------  -----  \n",
      " 0   uid            71 non-null     object \n",
      " 1   SMILES         71 non-null     object \n",
      " 2   S1_energy(eV)  71 non-null     float64\n",
      " 3   T1_energy(eV)  71 non-null     float64\n",
      "dtypes: float64(2), object(2)\n",
      "memory usage: 2.3+ KB\n"
     ]
    }
   ],
   "source": [
    "dev.info()"
   ]
  },
  {
   "cell_type": "markdown",
   "metadata": {},
   "source": [
    "# EDA"
   ]
  },
  {
   "cell_type": "code",
   "execution_count": 49,
   "metadata": {},
   "outputs": [],
   "source": [
    "df = df_atom"
   ]
  },
  {
   "cell_type": "code",
   "execution_count": 50,
   "metadata": {},
   "outputs": [
    {
     "data": {
      "text/plain": [
       "(30345, 13)"
      ]
     },
     "execution_count": 50,
     "metadata": {},
     "output_type": "execute_result"
    }
   ],
   "source": [
    "df.shape"
   ]
  },
  {
   "cell_type": "code",
   "execution_count": 51,
   "metadata": {},
   "outputs": [
    {
     "data": {
      "text/plain": [
       "394485"
      ]
     },
     "execution_count": 51,
     "metadata": {},
     "output_type": "execute_result"
    }
   ],
   "source": [
    "df.size"
   ]
  },
  {
   "cell_type": "code",
   "execution_count": 52,
   "metadata": {},
   "outputs": [
    {
     "data": {
      "text/plain": [
       "2"
      ]
     },
     "execution_count": 52,
     "metadata": {},
     "output_type": "execute_result"
    }
   ],
   "source": [
    "df.ndim"
   ]
  },
  {
   "cell_type": "code",
   "execution_count": 53,
   "metadata": {},
   "outputs": [
    {
     "data": {
      "text/html": [
       "<div>\n",
       "<style scoped>\n",
       "    .dataframe tbody tr th:only-of-type {\n",
       "        vertical-align: middle;\n",
       "    }\n",
       "\n",
       "    .dataframe tbody tr th {\n",
       "        vertical-align: top;\n",
       "    }\n",
       "\n",
       "    .dataframe thead th {\n",
       "        text-align: right;\n",
       "    }\n",
       "</style>\n",
       "<table border=\"1\" class=\"dataframe\">\n",
       "  <thead>\n",
       "    <tr style=\"text-align: right;\">\n",
       "      <th></th>\n",
       "      <th>B</th>\n",
       "      <th>Br</th>\n",
       "      <th>C</th>\n",
       "      <th>Cl</th>\n",
       "      <th>F</th>\n",
       "      <th>H</th>\n",
       "      <th>I</th>\n",
       "      <th>N</th>\n",
       "      <th>O</th>\n",
       "      <th>P</th>\n",
       "      <th>S</th>\n",
       "      <th>Si</th>\n",
       "      <th>Aromatic</th>\n",
       "    </tr>\n",
       "  </thead>\n",
       "  <tbody>\n",
       "    <tr>\n",
       "      <th>count</th>\n",
       "      <td>30345.000000</td>\n",
       "      <td>30345.000000</td>\n",
       "      <td>30345.000000</td>\n",
       "      <td>30345.000000</td>\n",
       "      <td>30345.000000</td>\n",
       "      <td>30345.000000</td>\n",
       "      <td>30345.000000</td>\n",
       "      <td>30345.000000</td>\n",
       "      <td>30345.000000</td>\n",
       "      <td>30345.000000</td>\n",
       "      <td>30345.000000</td>\n",
       "      <td>30345.000000</td>\n",
       "      <td>30345.000000</td>\n",
       "    </tr>\n",
       "    <tr>\n",
       "      <th>mean</th>\n",
       "      <td>0.018883</td>\n",
       "      <td>0.076026</td>\n",
       "      <td>18.832460</td>\n",
       "      <td>0.188103</td>\n",
       "      <td>0.389751</td>\n",
       "      <td>0.000033</td>\n",
       "      <td>0.011303</td>\n",
       "      <td>2.538903</td>\n",
       "      <td>2.403427</td>\n",
       "      <td>0.009128</td>\n",
       "      <td>0.354325</td>\n",
       "      <td>0.013445</td>\n",
       "      <td>2.105783</td>\n",
       "    </tr>\n",
       "    <tr>\n",
       "      <th>std</th>\n",
       "      <td>0.151904</td>\n",
       "      <td>0.304181</td>\n",
       "      <td>9.043091</td>\n",
       "      <td>0.500998</td>\n",
       "      <td>1.069732</td>\n",
       "      <td>0.005741</td>\n",
       "      <td>0.127996</td>\n",
       "      <td>1.614697</td>\n",
       "      <td>1.810667</td>\n",
       "      <td>0.114881</td>\n",
       "      <td>0.622707</td>\n",
       "      <td>0.171695</td>\n",
       "      <td>1.766456</td>\n",
       "    </tr>\n",
       "    <tr>\n",
       "      <th>min</th>\n",
       "      <td>0.000000</td>\n",
       "      <td>0.000000</td>\n",
       "      <td>0.000000</td>\n",
       "      <td>0.000000</td>\n",
       "      <td>0.000000</td>\n",
       "      <td>0.000000</td>\n",
       "      <td>0.000000</td>\n",
       "      <td>0.000000</td>\n",
       "      <td>0.000000</td>\n",
       "      <td>0.000000</td>\n",
       "      <td>0.000000</td>\n",
       "      <td>0.000000</td>\n",
       "      <td>0.000000</td>\n",
       "    </tr>\n",
       "    <tr>\n",
       "      <th>25%</th>\n",
       "      <td>0.000000</td>\n",
       "      <td>0.000000</td>\n",
       "      <td>14.000000</td>\n",
       "      <td>0.000000</td>\n",
       "      <td>0.000000</td>\n",
       "      <td>0.000000</td>\n",
       "      <td>0.000000</td>\n",
       "      <td>1.000000</td>\n",
       "      <td>1.000000</td>\n",
       "      <td>0.000000</td>\n",
       "      <td>0.000000</td>\n",
       "      <td>0.000000</td>\n",
       "      <td>1.000000</td>\n",
       "    </tr>\n",
       "    <tr>\n",
       "      <th>50%</th>\n",
       "      <td>0.000000</td>\n",
       "      <td>0.000000</td>\n",
       "      <td>17.000000</td>\n",
       "      <td>0.000000</td>\n",
       "      <td>0.000000</td>\n",
       "      <td>0.000000</td>\n",
       "      <td>0.000000</td>\n",
       "      <td>2.000000</td>\n",
       "      <td>2.000000</td>\n",
       "      <td>0.000000</td>\n",
       "      <td>0.000000</td>\n",
       "      <td>0.000000</td>\n",
       "      <td>2.000000</td>\n",
       "    </tr>\n",
       "    <tr>\n",
       "      <th>75%</th>\n",
       "      <td>0.000000</td>\n",
       "      <td>0.000000</td>\n",
       "      <td>22.000000</td>\n",
       "      <td>0.000000</td>\n",
       "      <td>0.000000</td>\n",
       "      <td>0.000000</td>\n",
       "      <td>0.000000</td>\n",
       "      <td>3.000000</td>\n",
       "      <td>3.000000</td>\n",
       "      <td>0.000000</td>\n",
       "      <td>1.000000</td>\n",
       "      <td>0.000000</td>\n",
       "      <td>3.000000</td>\n",
       "    </tr>\n",
       "    <tr>\n",
       "      <th>max</th>\n",
       "      <td>3.000000</td>\n",
       "      <td>8.000000</td>\n",
       "      <td>140.000000</td>\n",
       "      <td>8.000000</td>\n",
       "      <td>26.000000</td>\n",
       "      <td>1.000000</td>\n",
       "      <td>8.000000</td>\n",
       "      <td>15.000000</td>\n",
       "      <td>22.000000</td>\n",
       "      <td>4.000000</td>\n",
       "      <td>8.000000</td>\n",
       "      <td>8.000000</td>\n",
       "      <td>26.000000</td>\n",
       "    </tr>\n",
       "  </tbody>\n",
       "</table>\n",
       "</div>"
      ],
      "text/plain": [
       "                  B            Br             C            Cl             F  \\\n",
       "count  30345.000000  30345.000000  30345.000000  30345.000000  30345.000000   \n",
       "mean       0.018883      0.076026     18.832460      0.188103      0.389751   \n",
       "std        0.151904      0.304181      9.043091      0.500998      1.069732   \n",
       "min        0.000000      0.000000      0.000000      0.000000      0.000000   \n",
       "25%        0.000000      0.000000     14.000000      0.000000      0.000000   \n",
       "50%        0.000000      0.000000     17.000000      0.000000      0.000000   \n",
       "75%        0.000000      0.000000     22.000000      0.000000      0.000000   \n",
       "max        3.000000      8.000000    140.000000      8.000000     26.000000   \n",
       "\n",
       "                  H             I             N             O             P  \\\n",
       "count  30345.000000  30345.000000  30345.000000  30345.000000  30345.000000   \n",
       "mean       0.000033      0.011303      2.538903      2.403427      0.009128   \n",
       "std        0.005741      0.127996      1.614697      1.810667      0.114881   \n",
       "min        0.000000      0.000000      0.000000      0.000000      0.000000   \n",
       "25%        0.000000      0.000000      1.000000      1.000000      0.000000   \n",
       "50%        0.000000      0.000000      2.000000      2.000000      0.000000   \n",
       "75%        0.000000      0.000000      3.000000      3.000000      0.000000   \n",
       "max        1.000000      8.000000     15.000000     22.000000      4.000000   \n",
       "\n",
       "                  S            Si      Aromatic  \n",
       "count  30345.000000  30345.000000  30345.000000  \n",
       "mean       0.354325      0.013445      2.105783  \n",
       "std        0.622707      0.171695      1.766456  \n",
       "min        0.000000      0.000000      0.000000  \n",
       "25%        0.000000      0.000000      1.000000  \n",
       "50%        0.000000      0.000000      2.000000  \n",
       "75%        1.000000      0.000000      3.000000  \n",
       "max        8.000000      8.000000     26.000000  "
      ]
     },
     "execution_count": 53,
     "metadata": {},
     "output_type": "execute_result"
    }
   ],
   "source": [
    "df.describe()"
   ]
  },
  {
   "cell_type": "code",
   "execution_count": 54,
   "metadata": {},
   "outputs": [
    {
     "data": {
      "text/plain": [
       "B           0\n",
       "Br          0\n",
       "C           0\n",
       "Cl          0\n",
       "F           0\n",
       "H           0\n",
       "I           0\n",
       "N           0\n",
       "O           0\n",
       "P           0\n",
       "S           0\n",
       "Si          0\n",
       "Aromatic    0\n",
       "dtype: int64"
      ]
     },
     "execution_count": 54,
     "metadata": {},
     "output_type": "execute_result"
    }
   ],
   "source": [
    "df.isnull( ).sum( )"
   ]
  },
  {
   "cell_type": "code",
   "execution_count": 55,
   "metadata": {},
   "outputs": [
    {
     "data": {
      "text/plain": [
       "B             4\n",
       "Br            7\n",
       "C           111\n",
       "Cl            8\n",
       "F            20\n",
       "H             2\n",
       "I             6\n",
       "N            14\n",
       "O            22\n",
       "P             5\n",
       "S             9\n",
       "Si            8\n",
       "Aromatic     25\n",
       "dtype: int64"
      ]
     },
     "execution_count": 55,
     "metadata": {},
     "output_type": "execute_result"
    }
   ],
   "source": [
    "df.nunique( )"
   ]
  },
  {
   "cell_type": "code",
   "execution_count": 56,
   "metadata": {},
   "outputs": [
    {
     "data": {
      "text/plain": [
       "RangeIndex(start=0, stop=30345, step=1)"
      ]
     },
     "execution_count": 56,
     "metadata": {},
     "output_type": "execute_result"
    }
   ],
   "source": [
    "df.index"
   ]
  },
  {
   "cell_type": "code",
   "execution_count": 57,
   "metadata": {},
   "outputs": [
    {
     "data": {
      "text/plain": [
       "Index(['B', 'Br', 'C', 'Cl', 'F', 'H', 'I', 'N', 'O', 'P', 'S', 'Si',\n",
       "       'Aromatic'],\n",
       "      dtype='object')"
      ]
     },
     "execution_count": 57,
     "metadata": {},
     "output_type": "execute_result"
    }
   ],
   "source": [
    "df.columns"
   ]
  },
  {
   "cell_type": "code",
   "execution_count": 58,
   "metadata": {},
   "outputs": [
    {
     "data": {
      "text/plain": [
       "Index          128\n",
       "B           242760\n",
       "Br          242760\n",
       "C           242760\n",
       "Cl          242760\n",
       "F           242760\n",
       "H           242760\n",
       "I           242760\n",
       "N           242760\n",
       "O           242760\n",
       "P           242760\n",
       "S           242760\n",
       "Si          242760\n",
       "Aromatic    242760\n",
       "dtype: int64"
      ]
     },
     "execution_count": 58,
     "metadata": {},
     "output_type": "execute_result"
    }
   ],
   "source": [
    "df.memory_usage( )"
   ]
  },
  {
   "cell_type": "code",
   "execution_count": 59,
   "metadata": {},
   "outputs": [
    {
     "data": {
      "text/html": [
       "<div>\n",
       "<style scoped>\n",
       "    .dataframe tbody tr th:only-of-type {\n",
       "        vertical-align: middle;\n",
       "    }\n",
       "\n",
       "    .dataframe tbody tr th {\n",
       "        vertical-align: top;\n",
       "    }\n",
       "\n",
       "    .dataframe thead th {\n",
       "        text-align: right;\n",
       "    }\n",
       "</style>\n",
       "<table border=\"1\" class=\"dataframe\">\n",
       "  <thead>\n",
       "    <tr style=\"text-align: right;\">\n",
       "      <th></th>\n",
       "      <th>B</th>\n",
       "      <th>Br</th>\n",
       "      <th>C</th>\n",
       "      <th>Cl</th>\n",
       "      <th>F</th>\n",
       "      <th>H</th>\n",
       "      <th>I</th>\n",
       "      <th>N</th>\n",
       "      <th>O</th>\n",
       "      <th>P</th>\n",
       "      <th>S</th>\n",
       "      <th>Si</th>\n",
       "      <th>Aromatic</th>\n",
       "    </tr>\n",
       "  </thead>\n",
       "  <tbody>\n",
       "    <tr>\n",
       "      <th>0</th>\n",
       "      <td>0</td>\n",
       "      <td>0</td>\n",
       "      <td>21</td>\n",
       "      <td>0</td>\n",
       "      <td>0</td>\n",
       "      <td>0</td>\n",
       "      <td>0</td>\n",
       "      <td>3</td>\n",
       "      <td>4</td>\n",
       "      <td>0</td>\n",
       "      <td>0</td>\n",
       "      <td>0</td>\n",
       "      <td>2</td>\n",
       "    </tr>\n",
       "    <tr>\n",
       "      <th>1</th>\n",
       "      <td>0</td>\n",
       "      <td>0</td>\n",
       "      <td>33</td>\n",
       "      <td>1</td>\n",
       "      <td>0</td>\n",
       "      <td>0</td>\n",
       "      <td>0</td>\n",
       "      <td>4</td>\n",
       "      <td>3</td>\n",
       "      <td>0</td>\n",
       "      <td>1</td>\n",
       "      <td>0</td>\n",
       "      <td>5</td>\n",
       "    </tr>\n",
       "    <tr>\n",
       "      <th>2</th>\n",
       "      <td>0</td>\n",
       "      <td>0</td>\n",
       "      <td>19</td>\n",
       "      <td>0</td>\n",
       "      <td>0</td>\n",
       "      <td>0</td>\n",
       "      <td>0</td>\n",
       "      <td>3</td>\n",
       "      <td>3</td>\n",
       "      <td>0</td>\n",
       "      <td>1</td>\n",
       "      <td>0</td>\n",
       "      <td>2</td>\n",
       "    </tr>\n",
       "    <tr>\n",
       "      <th>3</th>\n",
       "      <td>0</td>\n",
       "      <td>0</td>\n",
       "      <td>13</td>\n",
       "      <td>0</td>\n",
       "      <td>0</td>\n",
       "      <td>0</td>\n",
       "      <td>0</td>\n",
       "      <td>2</td>\n",
       "      <td>1</td>\n",
       "      <td>0</td>\n",
       "      <td>1</td>\n",
       "      <td>0</td>\n",
       "      <td>1</td>\n",
       "    </tr>\n",
       "    <tr>\n",
       "      <th>4</th>\n",
       "      <td>0</td>\n",
       "      <td>0</td>\n",
       "      <td>14</td>\n",
       "      <td>0</td>\n",
       "      <td>3</td>\n",
       "      <td>0</td>\n",
       "      <td>0</td>\n",
       "      <td>1</td>\n",
       "      <td>2</td>\n",
       "      <td>0</td>\n",
       "      <td>0</td>\n",
       "      <td>0</td>\n",
       "      <td>0</td>\n",
       "    </tr>\n",
       "    <tr>\n",
       "      <th>...</th>\n",
       "      <td>...</td>\n",
       "      <td>...</td>\n",
       "      <td>...</td>\n",
       "      <td>...</td>\n",
       "      <td>...</td>\n",
       "      <td>...</td>\n",
       "      <td>...</td>\n",
       "      <td>...</td>\n",
       "      <td>...</td>\n",
       "      <td>...</td>\n",
       "      <td>...</td>\n",
       "      <td>...</td>\n",
       "      <td>...</td>\n",
       "    </tr>\n",
       "    <tr>\n",
       "      <th>30340</th>\n",
       "      <td>0</td>\n",
       "      <td>0</td>\n",
       "      <td>44</td>\n",
       "      <td>0</td>\n",
       "      <td>0</td>\n",
       "      <td>0</td>\n",
       "      <td>0</td>\n",
       "      <td>4</td>\n",
       "      <td>2</td>\n",
       "      <td>0</td>\n",
       "      <td>0</td>\n",
       "      <td>0</td>\n",
       "      <td>7</td>\n",
       "    </tr>\n",
       "    <tr>\n",
       "      <th>30341</th>\n",
       "      <td>0</td>\n",
       "      <td>0</td>\n",
       "      <td>65</td>\n",
       "      <td>0</td>\n",
       "      <td>0</td>\n",
       "      <td>0</td>\n",
       "      <td>0</td>\n",
       "      <td>5</td>\n",
       "      <td>0</td>\n",
       "      <td>0</td>\n",
       "      <td>0</td>\n",
       "      <td>0</td>\n",
       "      <td>10</td>\n",
       "    </tr>\n",
       "    <tr>\n",
       "      <th>30342</th>\n",
       "      <td>2</td>\n",
       "      <td>0</td>\n",
       "      <td>68</td>\n",
       "      <td>0</td>\n",
       "      <td>0</td>\n",
       "      <td>0</td>\n",
       "      <td>0</td>\n",
       "      <td>2</td>\n",
       "      <td>0</td>\n",
       "      <td>0</td>\n",
       "      <td>0</td>\n",
       "      <td>0</td>\n",
       "      <td>10</td>\n",
       "    </tr>\n",
       "    <tr>\n",
       "      <th>30343</th>\n",
       "      <td>2</td>\n",
       "      <td>0</td>\n",
       "      <td>52</td>\n",
       "      <td>0</td>\n",
       "      <td>0</td>\n",
       "      <td>0</td>\n",
       "      <td>0</td>\n",
       "      <td>2</td>\n",
       "      <td>0</td>\n",
       "      <td>0</td>\n",
       "      <td>0</td>\n",
       "      <td>0</td>\n",
       "      <td>10</td>\n",
       "    </tr>\n",
       "    <tr>\n",
       "      <th>30344</th>\n",
       "      <td>0</td>\n",
       "      <td>0</td>\n",
       "      <td>68</td>\n",
       "      <td>1</td>\n",
       "      <td>0</td>\n",
       "      <td>0</td>\n",
       "      <td>0</td>\n",
       "      <td>5</td>\n",
       "      <td>0</td>\n",
       "      <td>0</td>\n",
       "      <td>0</td>\n",
       "      <td>0</td>\n",
       "      <td>10</td>\n",
       "    </tr>\n",
       "  </tbody>\n",
       "</table>\n",
       "<p>30345 rows × 13 columns</p>\n",
       "</div>"
      ],
      "text/plain": [
       "       B  Br   C  Cl  F  H  I  N  O  P  S  Si  Aromatic\n",
       "0      0   0  21   0  0  0  0  3  4  0  0   0         2\n",
       "1      0   0  33   1  0  0  0  4  3  0  1   0         5\n",
       "2      0   0  19   0  0  0  0  3  3  0  1   0         2\n",
       "3      0   0  13   0  0  0  0  2  1  0  1   0         1\n",
       "4      0   0  14   0  3  0  0  1  2  0  0   0         0\n",
       "...   ..  ..  ..  .. .. .. .. .. .. .. ..  ..       ...\n",
       "30340  0   0  44   0  0  0  0  4  2  0  0   0         7\n",
       "30341  0   0  65   0  0  0  0  5  0  0  0   0        10\n",
       "30342  2   0  68   0  0  0  0  2  0  0  0   0        10\n",
       "30343  2   0  52   0  0  0  0  2  0  0  0   0        10\n",
       "30344  0   0  68   1  0  0  0  5  0  0  0   0        10\n",
       "\n",
       "[30345 rows x 13 columns]"
      ]
     },
     "execution_count": 59,
     "metadata": {},
     "output_type": "execute_result"
    }
   ],
   "source": [
    "df.dropna( )"
   ]
  },
  {
   "cell_type": "code",
   "execution_count": 60,
   "metadata": {},
   "outputs": [
    {
     "data": {
      "text/html": [
       "<div>\n",
       "<style scoped>\n",
       "    .dataframe tbody tr th:only-of-type {\n",
       "        vertical-align: middle;\n",
       "    }\n",
       "\n",
       "    .dataframe tbody tr th {\n",
       "        vertical-align: top;\n",
       "    }\n",
       "\n",
       "    .dataframe thead th {\n",
       "        text-align: right;\n",
       "    }\n",
       "</style>\n",
       "<table border=\"1\" class=\"dataframe\">\n",
       "  <thead>\n",
       "    <tr style=\"text-align: right;\">\n",
       "      <th></th>\n",
       "      <th>B</th>\n",
       "      <th>Br</th>\n",
       "      <th>C</th>\n",
       "      <th>Cl</th>\n",
       "      <th>F</th>\n",
       "      <th>H</th>\n",
       "      <th>I</th>\n",
       "      <th>N</th>\n",
       "      <th>O</th>\n",
       "      <th>P</th>\n",
       "      <th>S</th>\n",
       "      <th>Si</th>\n",
       "      <th>Aromatic</th>\n",
       "    </tr>\n",
       "  </thead>\n",
       "  <tbody>\n",
       "    <tr>\n",
       "      <th>0</th>\n",
       "      <td>False</td>\n",
       "      <td>False</td>\n",
       "      <td>False</td>\n",
       "      <td>False</td>\n",
       "      <td>False</td>\n",
       "      <td>False</td>\n",
       "      <td>False</td>\n",
       "      <td>False</td>\n",
       "      <td>False</td>\n",
       "      <td>False</td>\n",
       "      <td>False</td>\n",
       "      <td>False</td>\n",
       "      <td>False</td>\n",
       "    </tr>\n",
       "    <tr>\n",
       "      <th>1</th>\n",
       "      <td>False</td>\n",
       "      <td>False</td>\n",
       "      <td>False</td>\n",
       "      <td>False</td>\n",
       "      <td>False</td>\n",
       "      <td>False</td>\n",
       "      <td>False</td>\n",
       "      <td>False</td>\n",
       "      <td>False</td>\n",
       "      <td>False</td>\n",
       "      <td>False</td>\n",
       "      <td>False</td>\n",
       "      <td>False</td>\n",
       "    </tr>\n",
       "    <tr>\n",
       "      <th>2</th>\n",
       "      <td>False</td>\n",
       "      <td>False</td>\n",
       "      <td>False</td>\n",
       "      <td>False</td>\n",
       "      <td>False</td>\n",
       "      <td>False</td>\n",
       "      <td>False</td>\n",
       "      <td>False</td>\n",
       "      <td>False</td>\n",
       "      <td>False</td>\n",
       "      <td>False</td>\n",
       "      <td>False</td>\n",
       "      <td>False</td>\n",
       "    </tr>\n",
       "    <tr>\n",
       "      <th>3</th>\n",
       "      <td>False</td>\n",
       "      <td>False</td>\n",
       "      <td>False</td>\n",
       "      <td>False</td>\n",
       "      <td>False</td>\n",
       "      <td>False</td>\n",
       "      <td>False</td>\n",
       "      <td>False</td>\n",
       "      <td>False</td>\n",
       "      <td>False</td>\n",
       "      <td>False</td>\n",
       "      <td>False</td>\n",
       "      <td>False</td>\n",
       "    </tr>\n",
       "    <tr>\n",
       "      <th>4</th>\n",
       "      <td>False</td>\n",
       "      <td>False</td>\n",
       "      <td>False</td>\n",
       "      <td>False</td>\n",
       "      <td>False</td>\n",
       "      <td>False</td>\n",
       "      <td>False</td>\n",
       "      <td>False</td>\n",
       "      <td>False</td>\n",
       "      <td>False</td>\n",
       "      <td>False</td>\n",
       "      <td>False</td>\n",
       "      <td>False</td>\n",
       "    </tr>\n",
       "    <tr>\n",
       "      <th>...</th>\n",
       "      <td>...</td>\n",
       "      <td>...</td>\n",
       "      <td>...</td>\n",
       "      <td>...</td>\n",
       "      <td>...</td>\n",
       "      <td>...</td>\n",
       "      <td>...</td>\n",
       "      <td>...</td>\n",
       "      <td>...</td>\n",
       "      <td>...</td>\n",
       "      <td>...</td>\n",
       "      <td>...</td>\n",
       "      <td>...</td>\n",
       "    </tr>\n",
       "    <tr>\n",
       "      <th>30340</th>\n",
       "      <td>False</td>\n",
       "      <td>False</td>\n",
       "      <td>False</td>\n",
       "      <td>False</td>\n",
       "      <td>False</td>\n",
       "      <td>False</td>\n",
       "      <td>False</td>\n",
       "      <td>False</td>\n",
       "      <td>False</td>\n",
       "      <td>False</td>\n",
       "      <td>False</td>\n",
       "      <td>False</td>\n",
       "      <td>False</td>\n",
       "    </tr>\n",
       "    <tr>\n",
       "      <th>30341</th>\n",
       "      <td>False</td>\n",
       "      <td>False</td>\n",
       "      <td>False</td>\n",
       "      <td>False</td>\n",
       "      <td>False</td>\n",
       "      <td>False</td>\n",
       "      <td>False</td>\n",
       "      <td>False</td>\n",
       "      <td>False</td>\n",
       "      <td>False</td>\n",
       "      <td>False</td>\n",
       "      <td>False</td>\n",
       "      <td>False</td>\n",
       "    </tr>\n",
       "    <tr>\n",
       "      <th>30342</th>\n",
       "      <td>False</td>\n",
       "      <td>False</td>\n",
       "      <td>False</td>\n",
       "      <td>False</td>\n",
       "      <td>False</td>\n",
       "      <td>False</td>\n",
       "      <td>False</td>\n",
       "      <td>False</td>\n",
       "      <td>False</td>\n",
       "      <td>False</td>\n",
       "      <td>False</td>\n",
       "      <td>False</td>\n",
       "      <td>False</td>\n",
       "    </tr>\n",
       "    <tr>\n",
       "      <th>30343</th>\n",
       "      <td>False</td>\n",
       "      <td>False</td>\n",
       "      <td>False</td>\n",
       "      <td>False</td>\n",
       "      <td>False</td>\n",
       "      <td>False</td>\n",
       "      <td>False</td>\n",
       "      <td>False</td>\n",
       "      <td>False</td>\n",
       "      <td>False</td>\n",
       "      <td>False</td>\n",
       "      <td>False</td>\n",
       "      <td>False</td>\n",
       "    </tr>\n",
       "    <tr>\n",
       "      <th>30344</th>\n",
       "      <td>False</td>\n",
       "      <td>False</td>\n",
       "      <td>False</td>\n",
       "      <td>False</td>\n",
       "      <td>False</td>\n",
       "      <td>False</td>\n",
       "      <td>False</td>\n",
       "      <td>False</td>\n",
       "      <td>False</td>\n",
       "      <td>False</td>\n",
       "      <td>False</td>\n",
       "      <td>False</td>\n",
       "      <td>False</td>\n",
       "    </tr>\n",
       "  </tbody>\n",
       "</table>\n",
       "<p>30345 rows × 13 columns</p>\n",
       "</div>"
      ],
      "text/plain": [
       "           B     Br      C     Cl      F      H      I      N      O      P  \\\n",
       "0      False  False  False  False  False  False  False  False  False  False   \n",
       "1      False  False  False  False  False  False  False  False  False  False   \n",
       "2      False  False  False  False  False  False  False  False  False  False   \n",
       "3      False  False  False  False  False  False  False  False  False  False   \n",
       "4      False  False  False  False  False  False  False  False  False  False   \n",
       "...      ...    ...    ...    ...    ...    ...    ...    ...    ...    ...   \n",
       "30340  False  False  False  False  False  False  False  False  False  False   \n",
       "30341  False  False  False  False  False  False  False  False  False  False   \n",
       "30342  False  False  False  False  False  False  False  False  False  False   \n",
       "30343  False  False  False  False  False  False  False  False  False  False   \n",
       "30344  False  False  False  False  False  False  False  False  False  False   \n",
       "\n",
       "           S     Si  Aromatic  \n",
       "0      False  False     False  \n",
       "1      False  False     False  \n",
       "2      False  False     False  \n",
       "3      False  False     False  \n",
       "4      False  False     False  \n",
       "...      ...    ...       ...  \n",
       "30340  False  False     False  \n",
       "30341  False  False     False  \n",
       "30342  False  False     False  \n",
       "30343  False  False     False  \n",
       "30344  False  False     False  \n",
       "\n",
       "[30345 rows x 13 columns]"
      ]
     },
     "execution_count": 60,
     "metadata": {},
     "output_type": "execute_result"
    }
   ],
   "source": [
    "df.isna( )"
   ]
  },
  {
   "cell_type": "code",
   "execution_count": 61,
   "metadata": {},
   "outputs": [
    {
     "data": {
      "text/html": [
       "<div>\n",
       "<style scoped>\n",
       "    .dataframe tbody tr th:only-of-type {\n",
       "        vertical-align: middle;\n",
       "    }\n",
       "\n",
       "    .dataframe tbody tr th {\n",
       "        vertical-align: top;\n",
       "    }\n",
       "\n",
       "    .dataframe thead th {\n",
       "        text-align: right;\n",
       "    }\n",
       "</style>\n",
       "<table border=\"1\" class=\"dataframe\">\n",
       "  <thead>\n",
       "    <tr style=\"text-align: right;\">\n",
       "      <th></th>\n",
       "      <th>B</th>\n",
       "      <th>Br</th>\n",
       "      <th>C</th>\n",
       "      <th>Cl</th>\n",
       "      <th>F</th>\n",
       "      <th>H</th>\n",
       "      <th>I</th>\n",
       "      <th>N</th>\n",
       "      <th>O</th>\n",
       "      <th>P</th>\n",
       "      <th>S</th>\n",
       "      <th>Si</th>\n",
       "      <th>Aromatic</th>\n",
       "    </tr>\n",
       "  </thead>\n",
       "  <tbody>\n",
       "    <tr>\n",
       "      <th>B</th>\n",
       "      <td>1.000000</td>\n",
       "      <td>0.002452</td>\n",
       "      <td>0.179474</td>\n",
       "      <td>-0.028486</td>\n",
       "      <td>0.178201</td>\n",
       "      <td>-0.000714</td>\n",
       "      <td>0.046651</td>\n",
       "      <td>-0.015961</td>\n",
       "      <td>-0.039679</td>\n",
       "      <td>0.010895</td>\n",
       "      <td>-0.032759</td>\n",
       "      <td>-0.008471</td>\n",
       "      <td>0.156515</td>\n",
       "    </tr>\n",
       "    <tr>\n",
       "      <th>Br</th>\n",
       "      <td>0.002452</td>\n",
       "      <td>1.000000</td>\n",
       "      <td>-0.073758</td>\n",
       "      <td>-0.007343</td>\n",
       "      <td>0.008087</td>\n",
       "      <td>-0.001435</td>\n",
       "      <td>-0.000065</td>\n",
       "      <td>-0.083888</td>\n",
       "      <td>-0.078726</td>\n",
       "      <td>-0.005714</td>\n",
       "      <td>-0.021997</td>\n",
       "      <td>-0.011370</td>\n",
       "      <td>-0.010000</td>\n",
       "    </tr>\n",
       "    <tr>\n",
       "      <th>C</th>\n",
       "      <td>0.179474</td>\n",
       "      <td>-0.073758</td>\n",
       "      <td>1.000000</td>\n",
       "      <td>-0.037073</td>\n",
       "      <td>0.058989</td>\n",
       "      <td>-0.009416</td>\n",
       "      <td>-0.007532</td>\n",
       "      <td>0.153239</td>\n",
       "      <td>0.134374</td>\n",
       "      <td>0.039792</td>\n",
       "      <td>0.003063</td>\n",
       "      <td>0.085821</td>\n",
       "      <td>0.794655</td>\n",
       "    </tr>\n",
       "    <tr>\n",
       "      <th>Cl</th>\n",
       "      <td>-0.028486</td>\n",
       "      <td>-0.007343</td>\n",
       "      <td>-0.037073</td>\n",
       "      <td>1.000000</td>\n",
       "      <td>-0.018368</td>\n",
       "      <td>-0.002155</td>\n",
       "      <td>0.000247</td>\n",
       "      <td>-0.025260</td>\n",
       "      <td>-0.027383</td>\n",
       "      <td>-0.014947</td>\n",
       "      <td>0.002801</td>\n",
       "      <td>-0.020974</td>\n",
       "      <td>0.021605</td>\n",
       "    </tr>\n",
       "    <tr>\n",
       "      <th>F</th>\n",
       "      <td>0.178201</td>\n",
       "      <td>0.008087</td>\n",
       "      <td>0.058989</td>\n",
       "      <td>-0.018368</td>\n",
       "      <td>1.000000</td>\n",
       "      <td>0.014008</td>\n",
       "      <td>0.007537</td>\n",
       "      <td>-0.014130</td>\n",
       "      <td>-0.062891</td>\n",
       "      <td>-0.006157</td>\n",
       "      <td>-0.026597</td>\n",
       "      <td>-0.005207</td>\n",
       "      <td>0.064875</td>\n",
       "    </tr>\n",
       "    <tr>\n",
       "      <th>H</th>\n",
       "      <td>-0.000714</td>\n",
       "      <td>-0.001435</td>\n",
       "      <td>-0.009416</td>\n",
       "      <td>-0.002155</td>\n",
       "      <td>0.014008</td>\n",
       "      <td>1.000000</td>\n",
       "      <td>-0.000507</td>\n",
       "      <td>-0.009027</td>\n",
       "      <td>-0.007620</td>\n",
       "      <td>-0.000456</td>\n",
       "      <td>-0.003267</td>\n",
       "      <td>-0.000450</td>\n",
       "      <td>-0.006844</td>\n",
       "    </tr>\n",
       "    <tr>\n",
       "      <th>I</th>\n",
       "      <td>0.046651</td>\n",
       "      <td>-0.000065</td>\n",
       "      <td>-0.007532</td>\n",
       "      <td>0.000247</td>\n",
       "      <td>0.007537</td>\n",
       "      <td>-0.000507</td>\n",
       "      <td>1.000000</td>\n",
       "      <td>-0.028677</td>\n",
       "      <td>-0.014842</td>\n",
       "      <td>-0.002535</td>\n",
       "      <td>-0.017173</td>\n",
       "      <td>-0.000917</td>\n",
       "      <td>0.009870</td>\n",
       "    </tr>\n",
       "    <tr>\n",
       "      <th>N</th>\n",
       "      <td>-0.015961</td>\n",
       "      <td>-0.083888</td>\n",
       "      <td>0.153239</td>\n",
       "      <td>-0.025260</td>\n",
       "      <td>-0.014130</td>\n",
       "      <td>-0.009027</td>\n",
       "      <td>-0.028677</td>\n",
       "      <td>1.000000</td>\n",
       "      <td>-0.066699</td>\n",
       "      <td>-0.045885</td>\n",
       "      <td>0.045647</td>\n",
       "      <td>-0.076538</td>\n",
       "      <td>0.244704</td>\n",
       "    </tr>\n",
       "    <tr>\n",
       "      <th>O</th>\n",
       "      <td>-0.039679</td>\n",
       "      <td>-0.078726</td>\n",
       "      <td>0.134374</td>\n",
       "      <td>-0.027383</td>\n",
       "      <td>-0.062891</td>\n",
       "      <td>-0.007620</td>\n",
       "      <td>-0.014842</td>\n",
       "      <td>-0.066699</td>\n",
       "      <td>1.000000</td>\n",
       "      <td>0.099534</td>\n",
       "      <td>0.073052</td>\n",
       "      <td>-0.012254</td>\n",
       "      <td>-0.065263</td>\n",
       "    </tr>\n",
       "    <tr>\n",
       "      <th>P</th>\n",
       "      <td>0.010895</td>\n",
       "      <td>-0.005714</td>\n",
       "      <td>0.039792</td>\n",
       "      <td>-0.014947</td>\n",
       "      <td>-0.006157</td>\n",
       "      <td>-0.000456</td>\n",
       "      <td>-0.002535</td>\n",
       "      <td>-0.045885</td>\n",
       "      <td>0.099534</td>\n",
       "      <td>1.000000</td>\n",
       "      <td>-0.009282</td>\n",
       "      <td>0.010485</td>\n",
       "      <td>0.039576</td>\n",
       "    </tr>\n",
       "    <tr>\n",
       "      <th>S</th>\n",
       "      <td>-0.032759</td>\n",
       "      <td>-0.021997</td>\n",
       "      <td>0.003063</td>\n",
       "      <td>0.002801</td>\n",
       "      <td>-0.026597</td>\n",
       "      <td>-0.003267</td>\n",
       "      <td>-0.017173</td>\n",
       "      <td>0.045647</td>\n",
       "      <td>0.073052</td>\n",
       "      <td>-0.009282</td>\n",
       "      <td>1.000000</td>\n",
       "      <td>-0.007572</td>\n",
       "      <td>0.087471</td>\n",
       "    </tr>\n",
       "    <tr>\n",
       "      <th>Si</th>\n",
       "      <td>-0.008471</td>\n",
       "      <td>-0.011370</td>\n",
       "      <td>0.085821</td>\n",
       "      <td>-0.020974</td>\n",
       "      <td>-0.005207</td>\n",
       "      <td>-0.000450</td>\n",
       "      <td>-0.000917</td>\n",
       "      <td>-0.076538</td>\n",
       "      <td>-0.012254</td>\n",
       "      <td>0.010485</td>\n",
       "      <td>-0.007572</td>\n",
       "      <td>1.000000</td>\n",
       "      <td>0.031494</td>\n",
       "    </tr>\n",
       "    <tr>\n",
       "      <th>Aromatic</th>\n",
       "      <td>0.156515</td>\n",
       "      <td>-0.010000</td>\n",
       "      <td>0.794655</td>\n",
       "      <td>0.021605</td>\n",
       "      <td>0.064875</td>\n",
       "      <td>-0.006844</td>\n",
       "      <td>0.009870</td>\n",
       "      <td>0.244704</td>\n",
       "      <td>-0.065263</td>\n",
       "      <td>0.039576</td>\n",
       "      <td>0.087471</td>\n",
       "      <td>0.031494</td>\n",
       "      <td>1.000000</td>\n",
       "    </tr>\n",
       "  </tbody>\n",
       "</table>\n",
       "</div>"
      ],
      "text/plain": [
       "                 B        Br         C        Cl         F         H  \\\n",
       "B         1.000000  0.002452  0.179474 -0.028486  0.178201 -0.000714   \n",
       "Br        0.002452  1.000000 -0.073758 -0.007343  0.008087 -0.001435   \n",
       "C         0.179474 -0.073758  1.000000 -0.037073  0.058989 -0.009416   \n",
       "Cl       -0.028486 -0.007343 -0.037073  1.000000 -0.018368 -0.002155   \n",
       "F         0.178201  0.008087  0.058989 -0.018368  1.000000  0.014008   \n",
       "H        -0.000714 -0.001435 -0.009416 -0.002155  0.014008  1.000000   \n",
       "I         0.046651 -0.000065 -0.007532  0.000247  0.007537 -0.000507   \n",
       "N        -0.015961 -0.083888  0.153239 -0.025260 -0.014130 -0.009027   \n",
       "O        -0.039679 -0.078726  0.134374 -0.027383 -0.062891 -0.007620   \n",
       "P         0.010895 -0.005714  0.039792 -0.014947 -0.006157 -0.000456   \n",
       "S        -0.032759 -0.021997  0.003063  0.002801 -0.026597 -0.003267   \n",
       "Si       -0.008471 -0.011370  0.085821 -0.020974 -0.005207 -0.000450   \n",
       "Aromatic  0.156515 -0.010000  0.794655  0.021605  0.064875 -0.006844   \n",
       "\n",
       "                 I         N         O         P         S        Si  Aromatic  \n",
       "B         0.046651 -0.015961 -0.039679  0.010895 -0.032759 -0.008471  0.156515  \n",
       "Br       -0.000065 -0.083888 -0.078726 -0.005714 -0.021997 -0.011370 -0.010000  \n",
       "C        -0.007532  0.153239  0.134374  0.039792  0.003063  0.085821  0.794655  \n",
       "Cl        0.000247 -0.025260 -0.027383 -0.014947  0.002801 -0.020974  0.021605  \n",
       "F         0.007537 -0.014130 -0.062891 -0.006157 -0.026597 -0.005207  0.064875  \n",
       "H        -0.000507 -0.009027 -0.007620 -0.000456 -0.003267 -0.000450 -0.006844  \n",
       "I         1.000000 -0.028677 -0.014842 -0.002535 -0.017173 -0.000917  0.009870  \n",
       "N        -0.028677  1.000000 -0.066699 -0.045885  0.045647 -0.076538  0.244704  \n",
       "O        -0.014842 -0.066699  1.000000  0.099534  0.073052 -0.012254 -0.065263  \n",
       "P        -0.002535 -0.045885  0.099534  1.000000 -0.009282  0.010485  0.039576  \n",
       "S        -0.017173  0.045647  0.073052 -0.009282  1.000000 -0.007572  0.087471  \n",
       "Si       -0.000917 -0.076538 -0.012254  0.010485 -0.007572  1.000000  0.031494  \n",
       "Aromatic  0.009870  0.244704 -0.065263  0.039576  0.087471  0.031494  1.000000  "
      ]
     },
     "execution_count": 61,
     "metadata": {},
     "output_type": "execute_result"
    }
   ],
   "source": [
    "df.corr()"
   ]
  },
  {
   "cell_type": "code",
   "execution_count": 62,
   "metadata": {},
   "outputs": [],
   "source": [
    "train['ST1_GAP(eV)'] = train['S1_energy(eV)'] - train['T1_energy(eV)']"
   ]
  },
  {
   "cell_type": "code",
   "execution_count": 63,
   "metadata": {},
   "outputs": [
    {
     "data": {
      "text/html": [
       "<div>\n",
       "<style scoped>\n",
       "    .dataframe tbody tr th:only-of-type {\n",
       "        vertical-align: middle;\n",
       "    }\n",
       "\n",
       "    .dataframe tbody tr th {\n",
       "        vertical-align: top;\n",
       "    }\n",
       "\n",
       "    .dataframe thead th {\n",
       "        text-align: right;\n",
       "    }\n",
       "</style>\n",
       "<table border=\"1\" class=\"dataframe\">\n",
       "  <thead>\n",
       "    <tr style=\"text-align: right;\">\n",
       "      <th></th>\n",
       "      <th>B</th>\n",
       "      <th>Br</th>\n",
       "      <th>C</th>\n",
       "      <th>Cl</th>\n",
       "      <th>F</th>\n",
       "      <th>H</th>\n",
       "      <th>I</th>\n",
       "      <th>N</th>\n",
       "      <th>O</th>\n",
       "      <th>P</th>\n",
       "      <th>S</th>\n",
       "      <th>Si</th>\n",
       "      <th>Aromatic</th>\n",
       "      <th>ST1_GAP(eV)</th>\n",
       "    </tr>\n",
       "  </thead>\n",
       "  <tbody>\n",
       "    <tr>\n",
       "      <th>0</th>\n",
       "      <td>0</td>\n",
       "      <td>0</td>\n",
       "      <td>21</td>\n",
       "      <td>0</td>\n",
       "      <td>0</td>\n",
       "      <td>0</td>\n",
       "      <td>0</td>\n",
       "      <td>3</td>\n",
       "      <td>4</td>\n",
       "      <td>0</td>\n",
       "      <td>0</td>\n",
       "      <td>0</td>\n",
       "      <td>2</td>\n",
       "      <td>1.2938</td>\n",
       "    </tr>\n",
       "    <tr>\n",
       "      <th>1</th>\n",
       "      <td>0</td>\n",
       "      <td>0</td>\n",
       "      <td>33</td>\n",
       "      <td>1</td>\n",
       "      <td>0</td>\n",
       "      <td>0</td>\n",
       "      <td>0</td>\n",
       "      <td>4</td>\n",
       "      <td>3</td>\n",
       "      <td>0</td>\n",
       "      <td>1</td>\n",
       "      <td>0</td>\n",
       "      <td>5</td>\n",
       "      <td>0.2032</td>\n",
       "    </tr>\n",
       "    <tr>\n",
       "      <th>2</th>\n",
       "      <td>0</td>\n",
       "      <td>0</td>\n",
       "      <td>19</td>\n",
       "      <td>0</td>\n",
       "      <td>0</td>\n",
       "      <td>0</td>\n",
       "      <td>0</td>\n",
       "      <td>3</td>\n",
       "      <td>3</td>\n",
       "      <td>0</td>\n",
       "      <td>1</td>\n",
       "      <td>0</td>\n",
       "      <td>2</td>\n",
       "      <td>0.4633</td>\n",
       "    </tr>\n",
       "    <tr>\n",
       "      <th>3</th>\n",
       "      <td>0</td>\n",
       "      <td>0</td>\n",
       "      <td>13</td>\n",
       "      <td>0</td>\n",
       "      <td>0</td>\n",
       "      <td>0</td>\n",
       "      <td>0</td>\n",
       "      <td>2</td>\n",
       "      <td>1</td>\n",
       "      <td>0</td>\n",
       "      <td>1</td>\n",
       "      <td>0</td>\n",
       "      <td>1</td>\n",
       "      <td>1.1054</td>\n",
       "    </tr>\n",
       "    <tr>\n",
       "      <th>4</th>\n",
       "      <td>0</td>\n",
       "      <td>0</td>\n",
       "      <td>14</td>\n",
       "      <td>0</td>\n",
       "      <td>3</td>\n",
       "      <td>0</td>\n",
       "      <td>0</td>\n",
       "      <td>1</td>\n",
       "      <td>2</td>\n",
       "      <td>0</td>\n",
       "      <td>0</td>\n",
       "      <td>0</td>\n",
       "      <td>0</td>\n",
       "      <td>0.2243</td>\n",
       "    </tr>\n",
       "    <tr>\n",
       "      <th>...</th>\n",
       "      <td>...</td>\n",
       "      <td>...</td>\n",
       "      <td>...</td>\n",
       "      <td>...</td>\n",
       "      <td>...</td>\n",
       "      <td>...</td>\n",
       "      <td>...</td>\n",
       "      <td>...</td>\n",
       "      <td>...</td>\n",
       "      <td>...</td>\n",
       "      <td>...</td>\n",
       "      <td>...</td>\n",
       "      <td>...</td>\n",
       "      <td>...</td>\n",
       "    </tr>\n",
       "    <tr>\n",
       "      <th>30340</th>\n",
       "      <td>0</td>\n",
       "      <td>0</td>\n",
       "      <td>44</td>\n",
       "      <td>0</td>\n",
       "      <td>0</td>\n",
       "      <td>0</td>\n",
       "      <td>0</td>\n",
       "      <td>4</td>\n",
       "      <td>2</td>\n",
       "      <td>0</td>\n",
       "      <td>0</td>\n",
       "      <td>0</td>\n",
       "      <td>7</td>\n",
       "      <td>0.0093</td>\n",
       "    </tr>\n",
       "    <tr>\n",
       "      <th>30341</th>\n",
       "      <td>0</td>\n",
       "      <td>0</td>\n",
       "      <td>65</td>\n",
       "      <td>0</td>\n",
       "      <td>0</td>\n",
       "      <td>0</td>\n",
       "      <td>0</td>\n",
       "      <td>5</td>\n",
       "      <td>0</td>\n",
       "      <td>0</td>\n",
       "      <td>0</td>\n",
       "      <td>0</td>\n",
       "      <td>10</td>\n",
       "      <td>0.0166</td>\n",
       "    </tr>\n",
       "    <tr>\n",
       "      <th>30342</th>\n",
       "      <td>2</td>\n",
       "      <td>0</td>\n",
       "      <td>68</td>\n",
       "      <td>0</td>\n",
       "      <td>0</td>\n",
       "      <td>0</td>\n",
       "      <td>0</td>\n",
       "      <td>2</td>\n",
       "      <td>0</td>\n",
       "      <td>0</td>\n",
       "      <td>0</td>\n",
       "      <td>0</td>\n",
       "      <td>10</td>\n",
       "      <td>0.0104</td>\n",
       "    </tr>\n",
       "    <tr>\n",
       "      <th>30343</th>\n",
       "      <td>2</td>\n",
       "      <td>0</td>\n",
       "      <td>52</td>\n",
       "      <td>0</td>\n",
       "      <td>0</td>\n",
       "      <td>0</td>\n",
       "      <td>0</td>\n",
       "      <td>2</td>\n",
       "      <td>0</td>\n",
       "      <td>0</td>\n",
       "      <td>0</td>\n",
       "      <td>0</td>\n",
       "      <td>10</td>\n",
       "      <td>0.0139</td>\n",
       "    </tr>\n",
       "    <tr>\n",
       "      <th>30344</th>\n",
       "      <td>0</td>\n",
       "      <td>0</td>\n",
       "      <td>68</td>\n",
       "      <td>1</td>\n",
       "      <td>0</td>\n",
       "      <td>0</td>\n",
       "      <td>0</td>\n",
       "      <td>5</td>\n",
       "      <td>0</td>\n",
       "      <td>0</td>\n",
       "      <td>0</td>\n",
       "      <td>0</td>\n",
       "      <td>10</td>\n",
       "      <td>0.1293</td>\n",
       "    </tr>\n",
       "  </tbody>\n",
       "</table>\n",
       "<p>30345 rows × 14 columns</p>\n",
       "</div>"
      ],
      "text/plain": [
       "       B  Br   C  Cl  F  H  I  N  O  P  S  Si  Aromatic  ST1_GAP(eV)\n",
       "0      0   0  21   0  0  0  0  3  4  0  0   0         2       1.2938\n",
       "1      0   0  33   1  0  0  0  4  3  0  1   0         5       0.2032\n",
       "2      0   0  19   0  0  0  0  3  3  0  1   0         2       0.4633\n",
       "3      0   0  13   0  0  0  0  2  1  0  1   0         1       1.1054\n",
       "4      0   0  14   0  3  0  0  1  2  0  0   0         0       0.2243\n",
       "...   ..  ..  ..  .. .. .. .. .. .. .. ..  ..       ...          ...\n",
       "30340  0   0  44   0  0  0  0  4  2  0  0   0         7       0.0093\n",
       "30341  0   0  65   0  0  0  0  5  0  0  0   0        10       0.0166\n",
       "30342  2   0  68   0  0  0  0  2  0  0  0   0        10       0.0104\n",
       "30343  2   0  52   0  0  0  0  2  0  0  0   0        10       0.0139\n",
       "30344  0   0  68   1  0  0  0  5  0  0  0   0        10       0.1293\n",
       "\n",
       "[30345 rows x 14 columns]"
      ]
     },
     "execution_count": 63,
     "metadata": {},
     "output_type": "execute_result"
    }
   ],
   "source": [
    "df = pd.concat([df, train['ST1_GAP(eV)'].reset_index(drop=True)], axis=1)\n",
    "df"
   ]
  },
  {
   "cell_type": "code",
   "execution_count": 64,
   "metadata": {},
   "outputs": [],
   "source": [
    "from pandas_profiling import ProfileReport"
   ]
  },
  {
   "cell_type": "code",
   "execution_count": 65,
   "metadata": {},
   "outputs": [],
   "source": [
    "#profile = ProfileReport(df, title=\"Pandas Profiling Report\", explorative=True)"
   ]
  },
  {
   "cell_type": "code",
   "execution_count": 66,
   "metadata": {},
   "outputs": [
    {
     "data": {
      "application/vnd.jupyter.widget-view+json": {
       "model_id": "224aad66e44f4d779ffa389dac86bd9e",
       "version_major": 2,
       "version_minor": 0
      },
      "text/plain": [
       "Summarize dataset:   0%|          | 0/22 [00:00<?, ?it/s]"
      ]
     },
     "metadata": {},
     "output_type": "display_data"
    },
    {
     "data": {
      "application/vnd.jupyter.widget-view+json": {
       "model_id": "3b8f194d8ae54756a9fc1db451d91c70",
       "version_major": 2,
       "version_minor": 0
      },
      "text/plain": [
       "Generate report structure:   0%|          | 0/1 [00:00<?, ?it/s]"
      ]
     },
     "metadata": {},
     "output_type": "display_data"
    },
    {
     "data": {
      "application/vnd.jupyter.widget-view+json": {
       "model_id": "a169b193620f45e599744b18bc1d7b52",
       "version_major": 2,
       "version_minor": 0
      },
      "text/plain": [
       "Render HTML:   0%|          | 0/1 [00:00<?, ?it/s]"
      ]
     },
     "metadata": {},
     "output_type": "display_data"
    },
    {
     "data": {
      "application/vnd.jupyter.widget-view+json": {
       "model_id": "ed0a6b316e59407d8998d22d690b78bd",
       "version_major": 2,
       "version_minor": 0
      },
      "text/plain": [
       "Export report to file:   0%|          | 0/1 [00:00<?, ?it/s]"
      ]
     },
     "metadata": {},
     "output_type": "display_data"
    }
   ],
   "source": [
    "profile = ProfileReport(df, minimal=True)\n",
    "profile.to_file(\"output.html\")"
   ]
  },
  {
   "cell_type": "markdown",
   "metadata": {},
   "source": [
    "# Learning"
   ]
  },
  {
   "cell_type": "markdown",
   "metadata": {},
   "source": [
    "## Linear Regression"
   ]
  },
  {
   "cell_type": "code",
   "execution_count": 98,
   "metadata": {},
   "outputs": [],
   "source": [
    "from sklearn.model_selection import train_test_split, cross_val_score\n",
    "from sklearn.linear_model import LinearRegression\n",
    "from sklearn.metrics import mean_squared_error, r2_score, mean_absolute_error"
   ]
  },
  {
   "cell_type": "code",
   "execution_count": 83,
   "metadata": {},
   "outputs": [
    {
     "name": "stdout",
     "output_type": "stream",
     "text": [
      "MSE : 0.129, RMSE : 0.360, MAE : 0.285796\n",
      "Variance score : 0.020\n"
     ]
    }
   ],
   "source": [
    "y_target = df['ST1_GAP(eV)']\n",
    "X_data = df.drop(['H', 'ST1_GAP(eV)'], axis=1, inplace=False)\n",
    "X_train, X_test, y_train, y_test = train_test_split(X_data, y_target, test_size = 0.3, random_state=156)\n",
    "\n",
    "lr = LinearRegression()\n",
    "lr.fit(X_train, y_train)\n",
    "y_preds = lr.predict(X_test)\n",
    "mse = mean_squared_error(y_test, y_preds)\n",
    "rmse = np.sqrt(mse)\n",
    "mae = mean_absolute_error(y_test, y_preds)\n",
    "\n",
    "print('MSE : {0:.3f}, RMSE : {1:.3F}, MAE : {2:3F}'.format(mse, rmse, mae))\n",
    "print('Variance score : {0:.3f}'.format(r2_score(y_test, y_preds)))"
   ]
  },
  {
   "cell_type": "code",
   "execution_count": 84,
   "metadata": {},
   "outputs": [
    {
     "name": "stdout",
     "output_type": "stream",
     "text": [
      "-0.2921216815026569\n"
     ]
    }
   ],
   "source": [
    "neg_mean_absolute_error = cross_val_score(lr, X_data, y_target, scoring='neg_mean_absolute_error', cv=5)\n",
    "avg_mae = np.mean(neg_mean_absolute_error)\n",
    "print(avg_mae)"
   ]
  },
  {
   "cell_type": "markdown",
   "metadata": {},
   "source": [
    "## Lidge Regression"
   ]
  },
  {
   "cell_type": "code",
   "execution_count": 91,
   "metadata": {},
   "outputs": [
    {
     "name": "stdout",
     "output_type": "stream",
     "text": [
      "-0.2921181042150723\n"
     ]
    }
   ],
   "source": [
    "from sklearn.linear_model import Ridge\n",
    "\n",
    "ridge = Ridge(alpha=10)\n",
    "neg_mean_absolute_error = cross_val_score(ridge, X_data, y_target, scoring='neg_mean_absolute_error', cv=5)\n",
    "avg_mae = np.mean(neg_mean_absolute_error)\n",
    "print(avg_mae)"
   ]
  },
  {
   "cell_type": "code",
   "execution_count": 92,
   "metadata": {},
   "outputs": [
    {
     "name": "stdout",
     "output_type": "stream",
     "text": [
      "-0.2921216815026569\n",
      "-0.29212162471176867\n",
      "-0.292121150292521\n",
      "-0.2921181042150723\n",
      "-0.29213498703251495\n"
     ]
    }
   ],
   "source": [
    "alphas = [0, 0.1, 1, 10, 100]\n",
    "\n",
    "for alpha in alphas:\n",
    "    ridge = Ridge(alpha=alpha)\n",
    "    neg_mean_absolute_error = cross_val_score(ridge, X_data, y_target, scoring='neg_mean_absolute_error', cv=5)\n",
    "    avg_mae = np.mean(neg_mean_absolute_error)\n",
    "    print(avg_mae)"
   ]
  },
  {
   "cell_type": "markdown",
   "metadata": {},
   "source": [
    "## Lasso Regression"
   ]
  },
  {
   "cell_type": "code",
   "execution_count": 96,
   "metadata": {},
   "outputs": [],
   "source": [
    "from sklearn.linear_model import Lasso, ElasticNet\n",
    "\n",
    "def get_linear_reg_eval(model_name, params=None, X_data_n=None, y_target_n=None, verbose=True):\n",
    "    coeff_df = pd.DataFrame()\n",
    "    if verbose: print('######', model_name, '######')\n",
    "    for param in params:\n",
    "        if model_name == 'Ridge':model = Ridge(alpha=param)\n",
    "        elif model_name == 'Lasso':model = Lasso(alpha=param)\n",
    "        elif model_name == 'ElasticNet':model = ElasticNet(alpha=param, l1_ratio=0.7)\n",
    "        neg_mean_absolute_error = cross_val_score(model, X_data_n, y_target_n, scoring='neg_mean_absolute_error', cv=5)\n",
    "        avg_mae = np.mean(neg_mean_absolute_error) * -1\n",
    "        print(avg_mae)\n",
    "        model.fit(X_data, y_target)\n",
    "        coeff = pd.Series(data=model.coef_, index=X_data.columns)\n",
    "        colname = 'alpha'+str(param)\n",
    "        coeff_df[colname] = coeff\n",
    "    return coeff_df"
   ]
  },
  {
   "cell_type": "code",
   "execution_count": 97,
   "metadata": {},
   "outputs": [
    {
     "name": "stdout",
     "output_type": "stream",
     "text": [
      "###### Lasso ######\n",
      "0.29248120643467324\n",
      "0.29246738313847026\n",
      "0.29251889915746465\n",
      "0.29251889915746465\n",
      "0.29251889915746465\n"
     ]
    }
   ],
   "source": [
    "lasso_alphas = [0.07, 0.1, 0.5, 1, 3]\n",
    "coeff_lasso_df = get_linear_reg_eval('Lasso', params=lasso_alphas, X_data_n=X_data, y_target_n=y_target)"
   ]
  },
  {
   "cell_type": "markdown",
   "metadata": {},
   "source": [
    "## Random Forest"
   ]
  },
  {
   "cell_type": "code",
   "execution_count": 101,
   "metadata": {},
   "outputs": [
    {
     "name": "stdout",
     "output_type": "stream",
     "text": [
      "-0.2885264298963087\n"
     ]
    }
   ],
   "source": [
    "from sklearn.ensemble import RandomForestRegressor\n",
    "\n",
    "regr = RandomForestRegressor(random_state=0)\n",
    "neg_mean_absolute_error = cross_val_score(regr, X_data, y_target, scoring='neg_mean_absolute_error', cv=5)\n",
    "avg_mae = np.mean(neg_mean_absolute_error)\n",
    "print(avg_mae)"
   ]
  },
  {
   "cell_type": "code",
   "execution_count": 102,
   "metadata": {},
   "outputs": [
    {
     "data": {
      "image/png": "[encoded data removed]",
      "text/plain": [
       "<Figure size 720x288 with 2 Axes>"
      ]
     },
     "metadata": {},
     "output_type": "display_data"
    }
   ],
   "source": [
    "import networkx as nx \n",
    "import matplotlib.pyplot as plt \n",
    "G = nx.barabasi_albert_graph(100, 3) \n",
    "_, axes = plt.subplots(1, 2, figsize=(10, 4), gridspec_kw={'wspace': 0.5}) \n",
    "nx.draw_kamada_kawai(G, ax=axes[0], node_size=120) \n",
    "axes[1].imshow(nx.to_numpy_matrix(G), aspect='auto', cmap='Blues') \n",
    "axes[0].set_title(\"$G$\") \n",
    "axes[1].set_title(\"$\\mathbf{A}$\") \n",
    "plt.show()"
   ]
  },
  {
   "cell_type": "code",
   "execution_count": 103,
   "metadata": {},
   "outputs": [
    {
     "data": {
      "text/plain": [
       "<networkx.classes.graph.Graph at 0x7f16c8813ac8>"
      ]
     },
     "execution_count": 103,
     "metadata": {},
     "output_type": "execute_result"
    }
   ],
   "source": [
    "G"
   ]
  },
  {
   "cell_type": "code",
   "execution_count": 105,
   "metadata": {},
   "outputs": [
    {
     "data": {
      "text/plain": [
       "tensor([[ 0,  1,  2,  3],\n",
       "        [ 4,  5,  6,  7],\n",
       "        [ 8,  9, 10, 11]])"
      ]
     },
     "execution_count": 105,
     "metadata": {},
     "output_type": "execute_result"
    }
   ],
   "source": [
    "import torch\n",
    "mat = torch.arange(12).view(3, 4)\n",
    "mat"
   ]
  },
  {
   "cell_type": "code",
   "execution_count": 106,
   "metadata": {},
   "outputs": [
    {
     "data": {
      "text/plain": [
       "tensor([0, 1, 2, 3])"
      ]
     },
     "execution_count": 106,
     "metadata": {},
     "output_type": "execute_result"
    }
   ],
   "source": [
    "mat[0]"
   ]
  },
  {
   "cell_type": "code",
   "execution_count": 107,
   "metadata": {},
   "outputs": [
    {
     "data": {
      "text/plain": [
       "tensor([ 3,  7, 11])"
      ]
     },
     "execution_count": 107,
     "metadata": {},
     "output_type": "execute_result"
    }
   ],
   "source": [
    "mat[:, -1]"
   ]
  },
  {
   "cell_type": "code",
   "execution_count": 108,
   "metadata": {},
   "outputs": [
    {
     "data": {
      "image/png": "[encoded data removed]",
      "text/plain": [
       "<rdkit.Chem.rdchem.Mol at 0x7f16c9034210>"
      ]
     },
     "execution_count": 108,
     "metadata": {},
     "output_type": "execute_result"
    }
   ],
   "source": []
  },
  {
   "cell_type": "code",
   "execution_count": null,
   "metadata": {},
   "outputs": [],
   "source": []
  }
 ],
 "metadata": {
  "kernelspec": {
   "display_name": "Python 3",
   "language": "python",
   "name": "python3"
  },
  "language_info": {
   "codemirror_mode": {
    "name": "ipython",
    "version": 3
   },
   "file_extension": ".py",
   "mimetype": "text/x-python",
   "name": "python",
   "nbconvert_exporter": "python",
   "pygments_lexer": "ipython3",
   "version": "3.6.9"
  }
 },
 "nbformat": 4,
 "nbformat_minor": 2
}
